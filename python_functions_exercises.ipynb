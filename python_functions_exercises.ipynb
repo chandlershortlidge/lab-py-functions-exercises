{
 "cells": [
  {
   "cell_type": "markdown",
   "metadata": {},
   "source": [
    "# LAB | Python Functions Exercises\n",
    "\n",
    "These exercises will help you practice defining functions in Python while empthising your understanding of various programming concepts."
   ]
  },
  {
   "cell_type": "markdown",
   "metadata": {},
   "source": [
    "\n",
    "### Exercise 1: Find Maximum of Three Numbers\n",
    "Create a function that takes three numbers as arguments and returns the maximum value among them.\n"
   ]
  },
  {
   "cell_type": "code",
   "execution_count": null,
   "metadata": {},
   "outputs": [
    {
     "data": {
      "text/plain": [
       "3"
      ]
     },
     "execution_count": 3,
     "metadata": {},
     "output_type": "execute_result"
    }
   ],
   "source": [
    "def max_numbers(allnumbers): \n",
    "    for number in allnumbers:\n",
    "        largest = max(allnumbers)\n",
    "    return largest\n",
    "\n",
    "\n",
    "numbers = [1, 2, 3]\n",
    "\n",
    "# Max() will return the largest in 'a'\n",
    "max_numbers(numbers)"
   ]
  },
  {
   "cell_type": "markdown",
   "metadata": {},
   "source": [
    "\n",
    "### Exercise 2: Sum of List Elements\n",
    "Write a function that calculates the total sum of all numbers in a given list.\n"
   ]
  },
  {
   "cell_type": "markdown",
   "metadata": {},
   "source": [
    "\n",
    "*Example Input*: `[8, 2, 3, 0, 7]`\n",
    "\n",
    "*Expected Output*: `20`\n"
   ]
  },
  {
   "cell_type": "code",
   "execution_count": 11,
   "metadata": {},
   "outputs": [
    {
     "data": {
      "text/plain": [
       "20"
      ]
     },
     "execution_count": 11,
     "metadata": {},
     "output_type": "execute_result"
    }
   ],
   "source": [
    "def sum_numbers(numbers):\n",
    "    total_sum = 0\n",
    "    for number in numbers:\n",
    "        total_sum += number\n",
    "    return total_sum\n",
    "    \n",
    "\n",
    "numbers = [8, 2, 3, 0, 7]\n",
    "sum_numbers(numbers)"
   ]
  },
  {
   "cell_type": "markdown",
   "metadata": {},
   "source": [
    "\n",
    "### Exercise 3: Product of List Elements\n",
    "Define a function that multiplies all the integers in a list and returns the result.\n"
   ]
  },
  {
   "cell_type": "markdown",
   "metadata": {},
   "source": [
    "\n",
    "*Example Input*: `[8, 2, 3, -1, 7]`\n",
    "\n",
    "*Expected Output*: `-336`\n",
    "\n"
   ]
  },
  {
   "cell_type": "code",
   "execution_count": 13,
   "metadata": {},
   "outputs": [
    {
     "data": {
      "text/plain": [
       "-336"
      ]
     },
     "execution_count": 13,
     "metadata": {},
     "output_type": "execute_result"
    }
   ],
   "source": [
    "def multiply(list_to_multiply):\n",
    "    product_list = 1 # for multiplication, start at 1\n",
    "    for number in list_to_multiply: \n",
    "        product_list *= number\n",
    "    return product_list\n",
    "\n",
    "numbers = [8, 2, 3, -1, 7]\n",
    "multiply(numbers)"
   ]
  },
  {
   "cell_type": "markdown",
   "metadata": {},
   "source": [
    "\n",
    "### Exercise 4: Reverse a Given String\n",
    "Write a function that takes a string as input and returns the string reversed.\n"
   ]
  },
  {
   "cell_type": "markdown",
   "metadata": {},
   "source": [
    "\n",
    "*Example Input*: `\"abcd1234\"`\n",
    "\n",
    "*Expected Output*: `\"4321dcba\"`\n",
    "\n"
   ]
  },
  {
   "cell_type": "code",
   "execution_count": 17,
   "metadata": {},
   "outputs": [
    {
     "data": {
      "text/plain": [
       "'4321dcba'"
      ]
     },
     "execution_count": 17,
     "metadata": {},
     "output_type": "execute_result"
    }
   ],
   "source": [
    "def reverse_string(any_string):\n",
    "    new_string = \"\"\n",
    "    for letters in reversed(any_string): # string # loop through letters in string \n",
    "        new_string += letters\n",
    "    return new_string \n",
    "\n",
    "\n",
    "my_string = \"abcd1234\"\n",
    "reverse_string(my_string)\n",
    "\n"
   ]
  },
  {
   "cell_type": "markdown",
   "metadata": {},
   "source": [
    "\n",
    "### Exercise 5: Calculate Factorial\n",
    "Implement a function that computes the factorial of a non-negative integer passed as an argument.\n"
   ]
  },
  {
   "cell_type": "code",
   "execution_count": 24,
   "metadata": {},
   "outputs": [
    {
     "data": {
      "text/plain": [
       "720"
      ]
     },
     "execution_count": 24,
     "metadata": {},
     "output_type": "execute_result"
    }
   ],
   "source": [
    "def factorial(n):\n",
    "    result = 1\n",
    "    for number in range(1, n+1):  \n",
    "        result *= number\n",
    "    return result\n",
    "x = 6\n",
    "factorial(x)"
   ]
  },
  {
   "cell_type": "markdown",
   "metadata": {},
   "source": [
    "\n",
    "### Exercise 6: Check Number Range\n",
    "Create a function that checks if a given number is within a specified range (inclusive).\n"
   ]
  },
  {
   "cell_type": "code",
   "execution_count": 41,
   "metadata": {},
   "outputs": [
    {
     "data": {
      "text/plain": [
       "True"
      ]
     },
     "execution_count": 41,
     "metadata": {},
     "output_type": "execute_result"
    }
   ],
   "source": [
    "def number_range(check_range):\n",
    "    if 1 <= check_range <= 10:  # Is the number between 1 and 10?\n",
    "        return True\n",
    "    else:\n",
    "        return False\n",
    "    \n",
    "number = 4\n",
    "number_range(number)"
   ]
  },
  {
   "cell_type": "markdown",
   "metadata": {},
   "source": [
    "\n",
    "### Exercise 7: Count Upper and Lower Case Letters\n",
    "Write a function that takes a string and counts the number of uppercase and lowercase letters.\n"
   ]
  },
  {
   "cell_type": "markdown",
   "metadata": {},
   "source": [
    "\n",
    "*Example Input*: `\"The Quick Brown Fox\"`\n",
    "\n",
    "\n",
    "*Expected Output*:\n",
    "\n",
    "Uppercase letters: 4\n",
    "\n",
    "Lowercase letters: 12\n",
    "\n"
   ]
  },
  {
   "cell_type": "code",
   "execution_count": 47,
   "metadata": {},
   "outputs": [
    {
     "name": "stdout",
     "output_type": "stream",
     "text": [
      "Uppercase letters: 4\n",
      "Lowercase letters: 12\n"
     ]
    }
   ],
   "source": [
    "\n",
    "# if you need to count, sum, or multiply, you need an accumulator variable \n",
    "# \n",
    "def count_cases(s):\n",
    "    uppercase_count = 0\n",
    "    lowercase_count = 0 \n",
    "\n",
    "    for character in s: \n",
    "        if character.isupper():\n",
    "            uppercase_count += 1 \n",
    "        elif character.islower():\n",
    "            lowercase_count += 1\n",
    "    return uppercase_count, lowercase_count  \n",
    "\n",
    "upper, lower = count_cases(my_string)\n",
    "print(f\"Uppercase letters: {upper}\")\n",
    "print(f\"Lowercase letters: {lower}\")"
   ]
  },
  {
   "cell_type": "markdown",
   "metadata": {},
   "source": [
    "\n",
    "### Exercise 8: Unique Elements from List\n",
    "Define a function that accepts a list and returns a new list containing only distinct elements.\n"
   ]
  },
  {
   "cell_type": "markdown",
   "metadata": {},
   "source": [
    "\n",
    "*Example Input*: `[1, 2, 3, 3, 4, 5]`\n",
    "\n",
    "*Expected Output*: `[1, 2, 3, 4, 5]`\n",
    "\n"
   ]
  },
  {
   "cell_type": "code",
   "execution_count": 50,
   "metadata": {},
   "outputs": [
    {
     "name": "stdout",
     "output_type": "stream",
     "text": [
      "{'debate', 'job', 'thenandnow', 'PBS', 'nowplaying'}\n"
     ]
    }
   ],
   "source": [
    "def unique_list(s):\n",
    "    new_list = []\n",
    "    for elements in s: \n",
    "        myset = set(new_list)\n",
    "    return myset\n",
    "\n",
    "mylist = ['nowplaying', 'PBS', 'PBS', 'nowplaying', 'job', 'debate', 'thenandnow']\n",
    "myset = set(mylist)\n",
    "print(myset)"
   ]
  },
  {
   "cell_type": "markdown",
   "metadata": {},
   "source": [
    "\n",
    "### Exercise 9: Prime Number Checker\n",
    "Create a function that checks if the given number is prime or not.\n"
   ]
  },
  {
   "cell_type": "code",
   "execution_count": null,
   "metadata": {},
   "outputs": [
    {
     "data": {
      "text/plain": [
       "True"
      ]
     },
     "execution_count": 60,
     "metadata": {},
     "output_type": "execute_result"
    }
   ],
   "source": [
    "# To take input from the user\n",
    "#num = int(input(\"Enter a number: \"))\n",
    "\n",
    "num = int(input(\"Enter a number: \"))\n",
    "\n",
    "def primenumber(prime):\n",
    "    flag = False\n",
    "    if num == 0 or num == 1:\n",
    "        return False\n",
    "    elif prime > 1: # check for factors\n",
    "        for i in range(2, num): # Check every possible factor. If you find even ONE, you know it's not prime, so stop looking.\n",
    "            if (num % i) == 0: # for i in range(2, 6): → This will check i = 2, 3, 4, 5. When i = 2: if (6 % 2) == 0\n",
    "                flag = True # we found a factor!\n",
    "            # break out of loop\n",
    "            break \n",
    "    if flag:\n",
    "        return False  # found factors, so not prime\n",
    "    else:\n",
    "        return True   # no factors found, so it's prime    \n",
    "\n",
    "primenumber(num)"
   ]
  },
  {
   "cell_type": "markdown",
   "metadata": {},
   "source": [
    "\n",
    "### Exercise 10: Extract Even Numbers from List\n",
    "Write a function that filters out even numbers from the provided list.\n"
   ]
  },
  {
   "cell_type": "markdown",
   "metadata": {},
   "source": [
    "\n",
    "*Example Input*: `[1, 2, 3, 4, 5, 6]`\n",
    "\n",
    "*Expected Output*: `[2, 4, 6]`\n",
    "\n"
   ]
  },
  {
   "cell_type": "code",
   "execution_count": null,
   "metadata": {},
   "outputs": [
    {
     "data": {
      "text/plain": [
       "[2, 4, 6]"
      ]
     },
     "execution_count": 68,
     "metadata": {},
     "output_type": "execute_result"
    }
   ],
   "source": [
    "# even number is % 2\n",
    "# odd number is not\n",
    "# start with empty list for checking\n",
    "# loop through numbers being called to the parameter\n",
    "# divide numbers % 2 \n",
    "# add those numbers to the new list\n",
    "# otherwise do nothing\n",
    "\n",
    "def even_numbers(check_even):\n",
    "    ourlist = []\n",
    "    for numbers in check_even:\n",
    "        if numbers % 2: \n",
    "            pass\n",
    "        else:\n",
    "            ourlist.append(numbers)\n",
    "    \n",
    "    return ourlist # returns evens only\n",
    "\n",
    "example_list = [1, 2, 3, 4, 5, 6]\n",
    "even_numbers(example_list)"
   ]
  },
  {
   "cell_type": "markdown",
   "metadata": {},
   "source": [
    "\n",
    "### Exercise 11: Perfect Number Checker\n",
    "Implement a function to determine if a number is \"Perfect\". A perfect number is equal to the sum of its proper divisors (excluding itself).\n"
   ]
  },
  {
   "cell_type": "code",
   "execution_count": 107,
   "metadata": {},
   "outputs": [
    {
     "name": "stdout",
     "output_type": "stream",
     "text": [
      "True\n",
      "True\n",
      "False\n"
     ]
    }
   ],
   "source": [
    "def is_perfect_number(n):\n",
    "    total = 0\n",
    "    for i in range(1, n):   # Go from 1 up to (but not including) n\n",
    "        if n % i == 0:\n",
    "            total += i\n",
    "    return total == n\n",
    "\n",
    "print(is_perfect_number(6))   # True\n",
    "print(is_perfect_number(28))  # True\n",
    "print(is_perfect_number(12))  # False\n"
   ]
  },
  {
   "cell_type": "markdown",
   "metadata": {},
   "source": [
    "\n",
    "### Exercise 12: Palindrome Checker\n",
    "Write a function to check if the input string is a palindrome (reads the same forwards and backwards).\n"
   ]
  },
  {
   "cell_type": "code",
   "execution_count": 81,
   "metadata": {},
   "outputs": [
    {
     "data": {
      "text/plain": [
       "True"
      ]
     },
     "execution_count": 81,
     "metadata": {},
     "output_type": "execute_result"
    }
   ],
   "source": [
    "#define function \n",
    "# first \n",
    "# read mystring backwords using slice -1\n",
    "# if backwrods slice == mystring\n",
    "# print true\n",
    "\n",
    "def palindrome_checker(checkword):\n",
    "    backwords = checkword[::-1]\n",
    "    if backwords == checkword:\n",
    "        return True \n",
    "    else: \n",
    "        return False\n",
    "\n",
    "\n",
    "mystring = \"radar\"\n",
    "palindrome_checker(mystring)"
   ]
  },
  {
   "cell_type": "markdown",
   "metadata": {},
   "source": [
    "\n",
    "### Exercise 13: Generate Pascal's Triangle\n",
    "Create a function that prints the first `n` rows of Pascal's triangle.\n"
   ]
  },
  {
   "cell_type": "code",
   "execution_count": 109,
   "metadata": {},
   "outputs": [
    {
     "name": "stdout",
     "output_type": "stream",
     "text": [
      "[1]\n",
      "[1, 1]\n",
      "[1, 2, 1]\n",
      "[1, 3, 3, 1]\n",
      "[1, 4, 6, 4, 1]\n"
     ]
    }
   ],
   "source": [
    "def generate_pascals_triangle(n):\n",
    "    triangle = []\n",
    "    for row_num in range(n):\n",
    "        row = [1]\n",
    "        if triangle:  # Not the first row\n",
    "            last_row = triangle[-1]\n",
    "            row.extend([last_row[i] + last_row[i+1] for i in range(len(last_row)-1)])\n",
    "            row.append(1)\n",
    "        triangle.append(row)\n",
    "    \n",
    "    for row in triangle:\n",
    "        print(row)\n",
    "\n",
    "# Example: Generate first 5 rows\n",
    "generate_pascals_triangle(5)\n"
   ]
  },
  {
   "cell_type": "markdown",
   "metadata": {},
   "source": [
    "\n",
    "### Exercise 14: Pangram Checker\n",
    "Define a function to check if the input string is a pangram (contains every letter of the alphabet at least once).\n"
   ]
  },
  {
   "cell_type": "markdown",
   "metadata": {},
   "source": [
    "\n",
    "*Example Input*: `\"The quick brown fox jumps over the lazy dog\"`\n",
    "\n",
    "*Expected Output*: `True`\n",
    "\n"
   ]
  },
  {
   "cell_type": "code",
   "execution_count": 69,
   "metadata": {},
   "outputs": [
    {
     "data": {
      "text/plain": [
       "True"
      ]
     },
     "execution_count": 69,
     "metadata": {},
     "output_type": "execute_result"
    }
   ],
   "source": [
    "def pangram(pangram_string):\n",
    "    letters_list = []  # Start with empty LIST\n",
    "    for character in pangram_string: # loop over that string to check if it contains all letters\n",
    "        if character.isalpha(): # check if each character in string is a letter\n",
    "            lowercase_char = character.lower() # convert to lowercase and store in variable lowercase_chawr\n",
    "            letters_list.append(lowercase_char)  # ADD to the list\n",
    "    \n",
    "    # AFTER the loop, convert list to set\n",
    "    unique_letters = set(letters_list) \n",
    "    if len(unique_letters) == 26:\n",
    "        return True\n",
    "    else:\n",
    "        return False\n",
    "    \n",
    "    \n",
    "\n",
    "example_string = \"The quick brown fox jumps over the lazy dog\"\n",
    "pangram(example_string)"
   ]
  },
  {
   "cell_type": "markdown",
   "metadata": {},
   "source": [
    "\n",
    "### Exercise 15: Sort Hyphen-Separated Words\n",
    "Write a program that takes hyphen-separated words as input and prints them in alphabetical order.\n"
   ]
  },
  {
   "cell_type": "markdown",
   "metadata": {},
   "source": [
    "\n",
    "*Example Input*: `\"green-red-yellow-black-white\"`\n",
    "\n",
    "*Expected Output*: `\"black-green-red-white-yellow\"`\n",
    "\n"
   ]
  },
  {
   "cell_type": "code",
   "execution_count": 108,
   "metadata": {},
   "outputs": [
    {
     "name": "stdout",
     "output_type": "stream",
     "text": [
      "black-green-red-white-yellow\n"
     ]
    }
   ],
   "source": [
    "def hyphen_seperator(hyphenated):\n",
    "    # Split into list\n",
    "    words = hyphenated.split('-')\n",
    "    # Sort the list\n",
    "    sorted_words = sorted(words)\n",
    "    # Join back into a string with hyphens\n",
    "    result = '-'.join(sorted_words)\n",
    "    return result\n",
    "\n",
    "example_list = \"green-red-yellow-black-white\"\n",
    "print(hyphen_seperator(example_list))\n"
   ]
  },
  {
   "cell_type": "markdown",
   "metadata": {},
   "source": [
    "\n",
    "### Exercise 16: Generate Squares of Numbers\n",
    "Create a function that generates and prints squares of numbers from `1` to `30`.\n"
   ]
  },
  {
   "cell_type": "code",
   "execution_count": null,
   "metadata": {},
   "outputs": [
    {
     "data": {
      "text/plain": [
       "[1,\n",
       " 4,\n",
       " 9,\n",
       " 16,\n",
       " 25,\n",
       " 36,\n",
       " 49,\n",
       " 64,\n",
       " 81,\n",
       " 100,\n",
       " 121,\n",
       " 144,\n",
       " 169,\n",
       " 196,\n",
       " 225,\n",
       " 256,\n",
       " 289,\n",
       " 324,\n",
       " 361,\n",
       " 400,\n",
       " 441,\n",
       " 484,\n",
       " 529,\n",
       " 576,\n",
       " 625,\n",
       " 676,\n",
       " 729,\n",
       " 784,\n",
       " 841,\n",
       " 900]"
      ]
     },
     "execution_count": 87,
     "metadata": {},
     "output_type": "execute_result"
    }
   ],
   "source": [
    "\n",
    "def squarefunction(squarelist):\n",
    "    emptylist = []\n",
    "    for numbers in squarelist: # loop over numbers in list\n",
    "        squarenumber = numbers * numbers # square the \n",
    "        emptylist.append(squarenumber)\n",
    "    return emptylist\n",
    "\n",
    "\n",
    "\n",
    "number_list = [1, 2, 3, 4, 5, 6, 7, 8, 9, 10, 11, 12, 13, 14, 15, 16, 17, 18, 19, 20, 21, 22, 23, 24, 25, 26, 27, 28, 29, 30]\n",
    "squarefunction(number_list)"
   ]
  },
  {
   "cell_type": "markdown",
   "metadata": {},
   "source": [
    "\n",
    "### Exercise 17: Function Decorators\n",
    "Implement decorators to apply multiple formatting styles (bold, italic) to text output.\n"
   ]
  },
  {
   "cell_type": "code",
   "execution_count": 94,
   "metadata": {},
   "outputs": [
    {
     "name": "stdout",
     "output_type": "stream",
     "text": [
      "<i><b>a string</b><i>\n"
     ]
    }
   ],
   "source": [
    "def bold(func):\n",
    "    def wrapper(text):\n",
    "        return f\"<b>{func(text)}</b>\"\n",
    "    return wrapper\n",
    "def italics(func):\n",
    "    def wrapper(text):\n",
    "        return f\"<i>{func(text)}<i>\"\n",
    "    return wrapper\n",
    "\n",
    "@italics\n",
    "@bold\n",
    "def textfunction(text):\n",
    "    return text\n",
    "\n",
    "x = \"a string\"\n",
    "print(textfunction(x))\n"
   ]
  },
  {
   "cell_type": "markdown",
   "metadata": {},
   "source": [
    "\n",
    "### Exercise 18: Execute Python Code from String\n",
    "Write a program that executes Python code contained in a string variable.\n"
   ]
  },
  {
   "cell_type": "code",
   "execution_count": 99,
   "metadata": {},
   "outputs": [
    {
     "name": "stdout",
     "output_type": "stream",
     "text": [
      "4\n"
     ]
    }
   ],
   "source": [
    "def codestring(writecode):\n",
    "    thestring = exec(writecode)\n",
    "    return thestring\n",
    "\n",
    "\n",
    "code_string = \"print(2 + 2)\"  # This is just a string!      \n",
    "codestring(code_string) # This runs the code inside the string"
   ]
  },
  {
   "cell_type": "markdown",
   "metadata": {},
   "source": [
    "\n",
    "### Exercise 19: Nested Function Access\n",
    "Define two functions where one function calls another inside it.\n"
   ]
  },
  {
   "cell_type": "code",
   "execution_count": null,
   "metadata": {},
   "outputs": [
    {
     "name": "stdout",
     "output_type": "stream",
     "text": [
      "Hello, Chandler!\n"
     ]
    }
   ],
   "source": [
    "def greet(name):\n",
    "    def exclaim(word):\n",
    "        return word + \"!\"\n",
    "    greeting = exclaim(f\"Hello, {name}\")\n",
    "    print(greeting)\n",
    "\n",
    "greet(\"Chandler\")  # Output: HELLO, CHANDLER!"
   ]
  },
  {
   "cell_type": "markdown",
   "metadata": {},
   "source": [
    "\n",
    "### Exercise 20: Count Local Variables\n",
    "Create a function that counts how many local variables are declared within it.\n"
   ]
  },
  {
   "cell_type": "markdown",
   "metadata": {},
   "source": [
    "\n",
    "*Example Output*: `3`\n",
    "\n"
   ]
  },
  {
   "cell_type": "code",
   "execution_count": null,
   "metadata": {},
   "outputs": [],
   "source": []
  },
  {
   "cell_type": "markdown",
   "metadata": {},
   "source": [
    "\n",
    "Happy coding!"
   ]
  }
 ],
 "metadata": {
  "kernelspec": {
   "display_name": "Python 3",
   "language": "python",
   "name": "python3"
  },
  "language_info": {
   "codemirror_mode": {
    "name": "ipython",
    "version": 3
   },
   "file_extension": ".py",
   "mimetype": "text/x-python",
   "name": "python",
   "nbconvert_exporter": "python",
   "pygments_lexer": "ipython3",
   "version": "3.13.3"
  }
 },
 "nbformat": 4,
 "nbformat_minor": 2
}
