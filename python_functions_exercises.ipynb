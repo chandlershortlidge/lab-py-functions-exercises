{
 "cells": [
  {
   "cell_type": "markdown",
   "metadata": {},
   "source": [
    "# LAB | Python Functions Exercises\n",
    "\n",
    "These exercises will help you practice defining functions in Python while empthising your understanding of various programming concepts."
   ]
  },
  {
   "cell_type": "markdown",
   "metadata": {},
   "source": [
    "\n",
    "### Exercise 1: Find Maximum of Three Numbers\n",
    "Create a function that takes three numbers as arguments and returns the maximum value among them.\n"
   ]
  },
  {
   "cell_type": "code",
   "execution_count": null,
   "metadata": {},
   "outputs": [
    {
     "data": {
      "text/plain": [
       "3"
      ]
     },
     "execution_count": 3,
     "metadata": {},
     "output_type": "execute_result"
    }
   ],
   "source": [
    "def max_numbers(allnumbers): \n",
    "    for number in allnumbers:\n",
    "        largest = max(allnumbers)\n",
    "    return largest\n",
    "\n",
    "\n",
    "numbers = [1, 2, 3]\n",
    "\n",
    "# Max() will return the largest in 'a'\n",
    "max_numbers(numbers)"
   ]
  },
  {
   "cell_type": "markdown",
   "metadata": {},
   "source": [
    "\n",
    "### Exercise 2: Sum of List Elements\n",
    "Write a function that calculates the total sum of all numbers in a given list.\n"
   ]
  },
  {
   "cell_type": "markdown",
   "metadata": {},
   "source": [
    "\n",
    "*Example Input*: `[8, 2, 3, 0, 7]`\n",
    "\n",
    "*Expected Output*: `20`\n"
   ]
  },
  {
   "cell_type": "code",
   "execution_count": 11,
   "metadata": {},
   "outputs": [
    {
     "data": {
      "text/plain": [
       "20"
      ]
     },
     "execution_count": 11,
     "metadata": {},
     "output_type": "execute_result"
    }
   ],
   "source": [
    "def sum_numbers(numbers):\n",
    "    total_sum = 0\n",
    "    for number in numbers:\n",
    "        total_sum += number\n",
    "    return total_sum\n",
    "    \n",
    "\n",
    "numbers = [8, 2, 3, 0, 7]\n",
    "sum_numbers(numbers)"
   ]
  },
  {
   "cell_type": "markdown",
   "metadata": {},
   "source": [
    "\n",
    "### Exercise 3: Product of List Elements\n",
    "Define a function that multiplies all the integers in a list and returns the result.\n"
   ]
  },
  {
   "cell_type": "markdown",
   "metadata": {},
   "source": [
    "\n",
    "*Example Input*: `[8, 2, 3, -1, 7]`\n",
    "\n",
    "*Expected Output*: `-336`\n",
    "\n"
   ]
  },
  {
   "cell_type": "code",
   "execution_count": 13,
   "metadata": {},
   "outputs": [
    {
     "data": {
      "text/plain": [
       "-336"
      ]
     },
     "execution_count": 13,
     "metadata": {},
     "output_type": "execute_result"
    }
   ],
   "source": [
    "def multiply(list_to_multiply):\n",
    "    product_list = 1 # for multiplication, start at 1\n",
    "    for number in list_to_multiply: \n",
    "        product_list *= number\n",
    "    return product_list\n",
    "\n",
    "numbers = [8, 2, 3, -1, 7]\n",
    "multiply(numbers)"
   ]
  },
  {
   "cell_type": "markdown",
   "metadata": {},
   "source": [
    "\n",
    "### Exercise 4: Reverse a Given String\n",
    "Write a function that takes a string as input and returns the string reversed.\n"
   ]
  },
  {
   "cell_type": "markdown",
   "metadata": {},
   "source": [
    "\n",
    "*Example Input*: `\"abcd1234\"`\n",
    "\n",
    "*Expected Output*: `\"4321dcba\"`\n",
    "\n"
   ]
  },
  {
   "cell_type": "code",
   "execution_count": 17,
   "metadata": {},
   "outputs": [
    {
     "data": {
      "text/plain": [
       "'4321dcba'"
      ]
     },
     "execution_count": 17,
     "metadata": {},
     "output_type": "execute_result"
    }
   ],
   "source": [
    "def reverse_string(any_string):\n",
    "    new_string = \"\"\n",
    "    for letters in reversed(any_string): # string # loop through letters in string \n",
    "        new_string += letters\n",
    "    return new_string \n",
    "\n",
    "\n",
    "my_string = \"abcd1234\"\n",
    "reverse_string(my_string)\n",
    "\n"
   ]
  },
  {
   "cell_type": "markdown",
   "metadata": {},
   "source": [
    "\n",
    "### Exercise 5: Calculate Factorial\n",
    "Implement a function that computes the factorial of a non-negative integer passed as an argument.\n"
   ]
  },
  {
   "cell_type": "code",
   "execution_count": 24,
   "metadata": {},
   "outputs": [
    {
     "data": {
      "text/plain": [
       "720"
      ]
     },
     "execution_count": 24,
     "metadata": {},
     "output_type": "execute_result"
    }
   ],
   "source": [
    "def factorial(n):\n",
    "    result = 1\n",
    "    for number in range(1, n+1):  \n",
    "        result *= number\n",
    "    return result\n",
    "x = 6\n",
    "factorial(x)"
   ]
  },
  {
   "cell_type": "markdown",
   "metadata": {},
   "source": [
    "\n",
    "### Exercise 6: Check Number Range\n",
    "Create a function that checks if a given number is within a specified range (inclusive).\n"
   ]
  },
  {
   "cell_type": "code",
   "execution_count": 41,
   "metadata": {},
   "outputs": [
    {
     "data": {
      "text/plain": [
       "True"
      ]
     },
     "execution_count": 41,
     "metadata": {},
     "output_type": "execute_result"
    }
   ],
   "source": [
    "def number_range(check_range):\n",
    "    if 1 <= check_range <= 10:  # Is the number between 1 and 10?\n",
    "        return True\n",
    "    else:\n",
    "        return False\n",
    "    \n",
    "number = 4\n",
    "number_range(number)"
   ]
  },
  {
   "cell_type": "code",
   "execution_count": null,
   "metadata": {},
   "outputs": [],
   "source": [
    "result = range(2, 8)\n",
    "result "
   ]
  },
  {
   "cell_type": "markdown",
   "metadata": {},
   "source": [
    "\n",
    "### Exercise 7: Count Upper and Lower Case Letters\n",
    "Write a function that takes a string and counts the number of uppercase and lowercase letters.\n"
   ]
  },
  {
   "cell_type": "markdown",
   "metadata": {},
   "source": [
    "\n",
    "*Example Input*: `\"The Quick Brown Fox\"`\n",
    "\n",
    "\n",
    "*Expected Output*:\n",
    "\n",
    "Uppercase letters: 4\n",
    "\n",
    "Lowercase letters: 12\n",
    "\n"
   ]
  },
  {
   "cell_type": "code",
   "execution_count": 47,
   "metadata": {},
   "outputs": [
    {
     "name": "stdout",
     "output_type": "stream",
     "text": [
      "Uppercase letters: 4\n",
      "Lowercase letters: 12\n"
     ]
    }
   ],
   "source": [
    "\n",
    "# if you need to count, sum, or multiply, you need an accumulator variable \n",
    "# \n",
    "def count_cases(s):\n",
    "    uppercase_count = 0\n",
    "    lowercase_count = 0 \n",
    "\n",
    "    for character in s: \n",
    "        if character.isupper():\n",
    "            uppercase_count += 1 \n",
    "        elif character.islower():\n",
    "            lowercase_count += 1\n",
    "    return uppercase_count, lowercase_count  \n",
    "\n",
    "upper, lower = count_cases(my_string)\n",
    "print(f\"Uppercase letters: {upper}\")\n",
    "print(f\"Lowercase letters: {lower}\")"
   ]
  },
  {
   "cell_type": "markdown",
   "metadata": {},
   "source": [
    "\n",
    "### Exercise 8: Unique Elements from List\n",
    "Define a function that accepts a list and returns a new list containing only distinct elements.\n"
   ]
  },
  {
   "cell_type": "markdown",
   "metadata": {},
   "source": [
    "\n",
    "*Example Input*: `[1, 2, 3, 3, 4, 5]`\n",
    "\n",
    "*Expected Output*: `[1, 2, 3, 4, 5]`\n",
    "\n"
   ]
  },
  {
   "cell_type": "code",
   "execution_count": 50,
   "metadata": {},
   "outputs": [
    {
     "name": "stdout",
     "output_type": "stream",
     "text": [
      "{'debate', 'job', 'thenandnow', 'PBS', 'nowplaying'}\n"
     ]
    }
   ],
   "source": [
    "def unique_list(s):\n",
    "    new_list = []\n",
    "    for elements in s: \n",
    "        myset = set(new_list)\n",
    "    return myset\n",
    "\n",
    "mylist = ['nowplaying', 'PBS', 'PBS', 'nowplaying', 'job', 'debate', 'thenandnow']\n",
    "myset = set(mylist)\n",
    "print(myset)"
   ]
  },
  {
   "cell_type": "markdown",
   "metadata": {},
   "source": [
    "\n",
    "### Exercise 9: Prime Number Checker\n",
    "Create a function that checks if the given number is prime or not.\n"
   ]
  },
  {
   "cell_type": "code",
   "execution_count": null,
   "metadata": {},
   "outputs": [],
   "source": [
    "\n",
    "\n",
    "\n",
    "\n",
    "# To take input from the user\n",
    "#num = int(input(\"Enter a number: \"))\n",
    "\n",
    "if num == 0 or num == 1:\n",
    "    print(num, \"is not a prime number\")\n",
    "elif num > 1:\n",
    "   # check for factors\n",
    "   for i in range(2,num):\n",
    "       if (num % i) == 0:\n",
    "           print(num,\"is not a prime number\")\n",
    "           print(i,\"times\",num//i,\"is\",num)\n",
    "           break\n",
    "   else:\n",
    "       print(num,\"is a prime number\")\n",
    "       \n",
    "# if input number is less than\n",
    "# or equal to 1, it is not prime\n",
    "else:\n",
    "   print(num,\"is not a prime number\")# Your code here\n",
    "\n",
    "\n",
    "num = 407"
   ]
  },
  {
   "cell_type": "markdown",
   "metadata": {},
   "source": [
    "\n",
    "### Exercise 10: Extract Even Numbers from List\n",
    "Write a function that filters out even numbers from the provided list.\n"
   ]
  },
  {
   "cell_type": "markdown",
   "metadata": {},
   "source": [
    "\n",
    "*Example Input*: `[1, 2, 3, 4, 5, 6]`\n",
    "\n",
    "*Expected Output*: `[2, 4, 6]`\n",
    "\n"
   ]
  },
  {
   "cell_type": "code",
   "execution_count": null,
   "metadata": {},
   "outputs": [],
   "source": [
    "# Your code here"
   ]
  },
  {
   "cell_type": "markdown",
   "metadata": {},
   "source": [
    "\n",
    "### Exercise 11: Perfect Number Checker\n",
    "Implement a function to determine if a number is \"Perfect\". A perfect number is equal to the sum of its proper divisors (excluding itself).\n"
   ]
  },
  {
   "cell_type": "code",
   "execution_count": null,
   "metadata": {},
   "outputs": [],
   "source": [
    "# Your code here"
   ]
  },
  {
   "cell_type": "markdown",
   "metadata": {},
   "source": [
    "\n",
    "### Exercise 12: Palindrome Checker\n",
    "Write a function to check if the input string is a palindrome (reads the same forwards and backwards).\n"
   ]
  },
  {
   "cell_type": "code",
   "execution_count": null,
   "metadata": {},
   "outputs": [],
   "source": [
    "# Your code here"
   ]
  },
  {
   "cell_type": "markdown",
   "metadata": {},
   "source": [
    "\n",
    "### Exercise 13: Generate Pascal's Triangle\n",
    "Create a function that prints the first `n` rows of Pascal's triangle.\n"
   ]
  },
  {
   "cell_type": "code",
   "execution_count": null,
   "metadata": {},
   "outputs": [],
   "source": [
    "# Your code here"
   ]
  },
  {
   "cell_type": "markdown",
   "metadata": {},
   "source": [
    "\n",
    "### Exercise 14: Pangram Checker\n",
    "Define a function to check if the input string is a pangram (contains every letter of the alphabet at least once).\n"
   ]
  },
  {
   "cell_type": "markdown",
   "metadata": {},
   "source": [
    "\n",
    "*Example Input*: `\"The quick brown fox jumps over the lazy dog\"`\n",
    "\n",
    "*Expected Output*: `True`\n",
    "\n"
   ]
  },
  {
   "cell_type": "code",
   "execution_count": null,
   "metadata": {},
   "outputs": [],
   "source": [
    "# Your code here"
   ]
  },
  {
   "cell_type": "markdown",
   "metadata": {},
   "source": [
    "\n",
    "### Exercise 15: Sort Hyphen-Separated Words\n",
    "Write a program that takes hyphen-separated words as input and prints them in alphabetical order.\n"
   ]
  },
  {
   "cell_type": "markdown",
   "metadata": {},
   "source": [
    "\n",
    "*Example Input*: `\"green-red-yellow-black-white\"`\n",
    "\n",
    "*Expected Output*: `\"black-green-red-white-yellow\"`\n",
    "\n"
   ]
  },
  {
   "cell_type": "code",
   "execution_count": null,
   "metadata": {},
   "outputs": [],
   "source": [
    "# Your code here"
   ]
  },
  {
   "cell_type": "markdown",
   "metadata": {},
   "source": [
    "\n",
    "### Exercise 16: Generate Squares of Numbers\n",
    "Create a function that generates and prints squares of numbers from `1` to `30`.\n"
   ]
  },
  {
   "cell_type": "code",
   "execution_count": null,
   "metadata": {},
   "outputs": [],
   "source": [
    "# Your code here"
   ]
  },
  {
   "cell_type": "markdown",
   "metadata": {},
   "source": [
    "\n",
    "### Exercise 17: Function Decorators\n",
    "Implement decorators to apply multiple formatting styles (bold, italic) to text output.\n"
   ]
  },
  {
   "cell_type": "code",
   "execution_count": null,
   "metadata": {},
   "outputs": [],
   "source": [
    "# Your code here"
   ]
  },
  {
   "cell_type": "markdown",
   "metadata": {},
   "source": [
    "\n",
    "### Exercise 18: Execute Python Code from String\n",
    "Write a program that executes Python code contained in a string variable.\n"
   ]
  },
  {
   "cell_type": "code",
   "execution_count": null,
   "metadata": {},
   "outputs": [],
   "source": [
    "# Your code here"
   ]
  },
  {
   "cell_type": "markdown",
   "metadata": {},
   "source": [
    "\n",
    "### Exercise 19: Nested Function Access\n",
    "Define two functions where one function calls another inside it.\n"
   ]
  },
  {
   "cell_type": "code",
   "execution_count": null,
   "metadata": {},
   "outputs": [],
   "source": [
    "# Your code here"
   ]
  },
  {
   "cell_type": "markdown",
   "metadata": {},
   "source": [
    "\n",
    "### Exercise 20: Count Local Variables\n",
    "Create a function that counts how many local variables are declared within it.\n"
   ]
  },
  {
   "cell_type": "markdown",
   "metadata": {},
   "source": [
    "\n",
    "*Example Output*: `3`\n",
    "\n"
   ]
  },
  {
   "cell_type": "code",
   "execution_count": null,
   "metadata": {},
   "outputs": [],
   "source": [
    "# Your code here"
   ]
  },
  {
   "cell_type": "markdown",
   "metadata": {},
   "source": [
    "\n",
    "Happy coding!"
   ]
  }
 ],
 "metadata": {
  "kernelspec": {
   "display_name": "Python 3",
   "language": "python",
   "name": "python3"
  },
  "language_info": {
   "codemirror_mode": {
    "name": "ipython",
    "version": 3
   },
   "file_extension": ".py",
   "mimetype": "text/x-python",
   "name": "python",
   "nbconvert_exporter": "python",
   "pygments_lexer": "ipython3",
   "version": "3.13.3"
  }
 },
 "nbformat": 4,
 "nbformat_minor": 2
}
